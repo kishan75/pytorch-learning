{
 "cells": [
  {
   "cell_type": "code",
   "execution_count": 1,
   "id": "8888550c",
   "metadata": {
    "_cell_guid": "b1076dfc-b9ad-4769-8c92-a6c4dae69d19",
    "_uuid": "8f2839f25d086af736a60e9eeb907d3b93b6e0e5",
    "execution": {
     "iopub.execute_input": "2022-01-20T13:15:24.764456Z",
     "iopub.status.busy": "2022-01-20T13:15:24.762731Z",
     "iopub.status.idle": "2022-01-20T13:15:26.086699Z",
     "shell.execute_reply": "2022-01-20T13:15:26.086042Z",
     "shell.execute_reply.started": "2022-01-20T13:06:51.570713Z"
    },
    "papermill": {
     "duration": 1.332351,
     "end_time": "2022-01-20T13:15:26.086946",
     "exception": false,
     "start_time": "2022-01-20T13:15:24.754595",
     "status": "completed"
    },
    "tags": []
   },
   "outputs": [
    {
     "name": "stdout",
     "output_type": "stream",
     "text": [
      "tensor([[0.6709, 0.7642, 0.2177],\n",
      "        [0.5598, 0.2012, 0.8318],\n",
      "        [0.0416, 0.1889, 0.4911],\n",
      "        [0.2457, 0.7411, 0.6778],\n",
      "        [0.4753, 0.9681, 0.7996]])\n",
      "False\n"
     ]
    }
   ],
   "source": [
    "import torch\n",
    "x = torch.rand(5, 3)\n",
    "print(x)\n",
    "\n",
    "print(torch.cuda.is_available())"
   ]
  },
  {
   "cell_type": "markdown",
   "id": "fcc812fe",
   "metadata": {
    "papermill": {
     "duration": 0.002743,
     "end_time": "2022-01-20T13:15:26.093575",
     "exception": false,
     "start_time": "2022-01-20T13:15:26.090832",
     "status": "completed"
    },
    "tags": []
   },
   "source": []
  },
  {
   "cell_type": "code",
   "execution_count": null,
   "id": "fe61fa70",
   "metadata": {
    "papermill": {
     "duration": 0.002783,
     "end_time": "2022-01-20T13:15:26.099231",
     "exception": false,
     "start_time": "2022-01-20T13:15:26.096448",
     "status": "completed"
    },
    "tags": []
   },
   "outputs": [],
   "source": []
  }
 ],
 "metadata": {
  "kernelspec": {
   "display_name": "Python 3",
   "language": "python",
   "name": "python3"
  },
  "language_info": {
   "codemirror_mode": {
    "name": "ipython",
    "version": 3
   },
   "file_extension": ".py",
   "mimetype": "text/x-python",
   "name": "python",
   "nbconvert_exporter": "python",
   "pygments_lexer": "ipython3",
   "version": "3.7.12"
  },
  "papermill": {
   "default_parameters": {},
   "duration": 10.759441,
   "end_time": "2022-01-20T13:15:26.813373",
   "environment_variables": {},
   "exception": null,
   "input_path": "__notebook__.ipynb",
   "output_path": "__notebook__.ipynb",
   "parameters": {},
   "start_time": "2022-01-20T13:15:16.053932",
   "version": "2.3.3"
  }
 },
 "nbformat": 4,
 "nbformat_minor": 5
}
